{
 "cells": [
  {
   "cell_type": "code",
   "execution_count": null,
   "id": "d1ac8557-2be9-4b13-8b92-1b5979dfe92d",
   "metadata": {},
   "outputs": [],
   "source": [
    "Steps:\n",
    "\n",
    "1. API Creation using  flask \n",
    "2. Checked pickle file working \n",
    "3. Front end for users\n",
    "4. Geeting inputs from user\n",
    "5. Credted prdiction \n",
    "6. final app configuration "
   ]
  },
  {
   "cell_type": "code",
   "execution_count": null,
   "id": "b5e6e8bc-c941-48bf-8592-364d1ac7d350",
   "metadata": {},
   "outputs": [],
   "source": [
    "https://winscp.net/eng/index.php\n",
    "\n",
    "\n",
    "https://www.chiark.greenend.org.uk/~sgtatham/putty/latest.html\n"
   ]
  }
 ],
 "metadata": {
  "kernelspec": {
   "display_name": "Python 3 (ipykernel)",
   "language": "python",
   "name": "python3"
  },
  "language_info": {
   "codemirror_mode": {
    "name": "ipython",
    "version": 3
   },
   "file_extension": ".py",
   "mimetype": "text/x-python",
   "name": "python",
   "nbconvert_exporter": "python",
   "pygments_lexer": "ipython3",
   "version": "3.9.9"
  }
 },
 "nbformat": 4,
 "nbformat_minor": 5
}
